{
 "cells": [
  {
   "cell_type": "code",
   "execution_count": 1,
   "id": "subtle-czech",
   "metadata": {},
   "outputs": [],
   "source": [
    "%load_ext autoreload\n",
    "%autoreload 2\n",
    "PROJ_HOME='/Users/skeem396/Projects/analyst_performance/'\n",
    "import sys\n",
    "sys.path.append(PROJ_HOME)\n",
    "import gc\n",
    "from datetime import datetime"
   ]
  },
  {
   "cell_type": "code",
   "execution_count": 45,
   "id": "gorgeous-assist",
   "metadata": {},
   "outputs": [],
   "source": [
    "import pandas as pd\n",
    "import copy\n",
    "import pickle\n",
    "from tqdm import tqdm"
   ]
  },
  {
   "cell_type": "code",
   "execution_count": 3,
   "id": "weird-board",
   "metadata": {},
   "outputs": [],
   "source": [
    "from pathlib import Path"
   ]
  },
  {
   "cell_type": "code",
   "execution_count": 4,
   "id": "worst-fetish",
   "metadata": {},
   "outputs": [],
   "source": [
    "data_dir = Path(PROJ_HOME+'/data')"
   ]
  },
  {
   "cell_type": "markdown",
   "id": "pretty-serum",
   "metadata": {},
   "source": [
    "# EDA"
   ]
  },
  {
   "cell_type": "code",
   "execution_count": 5,
   "id": "married-arkansas",
   "metadata": {},
   "outputs": [
    {
     "name": "stderr",
     "output_type": "stream",
     "text": [
      "/Users/skeem396/Projects/nlp/nlp_env/lib/python3.7/site-packages/IPython/core/interactiveshell.py:3437: DtypeWarning: Columns (0,1,2,3,4,5,6,7,13) have mixed types.Specify dtype option on import or set low_memory=False.\n",
      "  exec(code_obj, self.user_global_ns, self.user_ns)\n"
     ]
    },
    {
     "name": "stdout",
     "output_type": "stream",
     "text": [
      "/Users/skeem396/Projects/analyst_performance/data/2020_Part 1_summary.csv\n",
      "(29999, 66)\n",
      "/Users/skeem396/Projects/analyst_performance/data/2020_Part 2_summary.csv\n",
      "(7000, 66)\n",
      "/Users/skeem396/Projects/analyst_performance/data/2020_Part 3_summary.csv\n",
      "(29999, 66)\n",
      "/Users/skeem396/Projects/analyst_performance/data/2021_Part1_summary.csv\n",
      "(29999, 66)\n",
      "/Users/skeem396/Projects/analyst_performance/data/2021_Part2_summary.csv\n",
      "(29999, 66)\n",
      "/Users/skeem396/Projects/analyst_performance/data/2021_Part3_summary.csv\n",
      "(29999, 66)\n"
     ]
    }
   ],
   "source": [
    "fnms = sorted(list(data_dir.glob('*summary.csv')))\n",
    "data_lists = []\n",
    "for i, fnm in enumerate(fnms):\n",
    "    data_lists.append(pd.read_csv(fnm))\n",
    "    print(fnm)\n",
    "    print(data_lists[i].shape)"
   ]
  },
  {
   "cell_type": "code",
   "execution_count": 6,
   "id": "treated-scenario",
   "metadata": {},
   "outputs": [
    {
     "name": "stdout",
     "output_type": "stream",
     "text": [
      "['작성자', '자료제공처', '종목코드', '종목명', '발행일', '발행 전일', '발행 전전일', '리포트 제목', '시가', '종가', '고가', '전일종가', '전전일종가', '투자의견', '고가1', '고가2', '고가3', '고가4', '고가5', '고가6', '고가7', '고가8', '고가9', '고가10', '고가11', '고가12', '고가13', '고가14', '고가15', '고가16', '고가17', '고가18', '고가19', '고가20', '고가21', '고가22', '고가23', '고가24', '고가25', '고가26', '고가27', '고가28', '고가29', '고가30', '고가31', '고가32', '고가33', '고가34', '고가35', '고가36', '고가37', '고가38', '고가39', '고가40', '고가41', '고가42', '고가43', '고가44', '고가45', '고가46', '고가47', '고가48', '고가49', '고가50', 'H25', 'H50']\n",
      "['작성자', '자료제공처', '종목코드', '종목명', '발행일', '발행 전일', '발행 전전일', '리포트 제목', '시가', '종가', '고가', '전일종가', '전전일종가', '투자의견', '고가1', '고가2', '고가3', '고가4', '고가5', '고가6', '고가7', '고가8', '고가9', '고가10', '고가11', '고가12', '고가13', '고가14', '고가15', '고가16', '고가17', '고가18', '고가19', '고가20', '고가21', '고가22', '고가23', '고가24', '고가25', '고가26', '고가27', '고가28', '고가29', '고가30', '고가31', '고가32', '고가33', '고가34', '고가35', '고가36', '고가37', '고가38', '고가39', '고가40', '고가41', '고가42', '고가43', '고가44', '고가45', '고가46', '고가47', '고가48', '고가49', '고가50', 'H25', 'H50']\n",
      "['작성자', '자료제공처', '종목코드', '종목명', '발행일', '발행 전일', '발행 전전일', '리포트 제목', '시가', '종가', '고가', '전일종가', '전전일종가', '투자의견', '고가1', '고가2', '고가3', '고가4', '고가5', '고가6', '고가7', '고가8', '고가9', '고가10', '고가11', '고가12', '고가13', '고가14', '고가15', '고가16', '고가17', '고가18', '고가19', '고가20', '고가21', '고가22', '고가23', '고가24', '고가25', '고가26', '고가27', '고가28', '고가29', '고가30', '고가31', '고가32', '고가33', '고가34', '고가35', '고가36', '고가37', '고가38', '고가39', '고가40', '고가41', '고가42', '고가43', '고가44', '고가45', '고가46', '고가47', '고가48', '고가49', '고가50', 'H25', 'H50']\n",
      "['작성자', '자료제공처', '종목코드', '종목명', '발행일', '발행 전일', '발행 전전일', '리포트 제목', '시가', '종가', '고가', '전일종가', '전전일종가', '투자의견', '고가1', '고가2', '고가3', '고가4', '고가5', '고가6', '고가7', '고가8', '고가9', '고가10', '고가11', '고가12', '고가13', '고가14', '고가15', '고가16', '고가17', '고가18', '고가19', '고가20', '고가21', '고가22', '고가23', '고가24', '고가25', '고가26', '고가27', '고가28', '고가29', '고가30', '고가31', '고가32', '고가33', '고가34', '고가35', '고가36', '고가37', '고가38', '고가39', '고가40', '고가41', '고가42', '고가43', '고가44', '고가45', '고가46', '고가47', '고가48', '고가49', '고가50', 'H25', 'H50']\n",
      "['작성자', '자료제공처', '종목코드', '종목명', '발행일', '발행 전일', '발행 전전일', '리포트 제목', '시가', '종가', '고가', '전일종가', '전전일종가', '투자의견', '고가1', '고가2', '고가3', '고가4', '고가5', '고가6', '고가7', '고가8', '고가9', '고가10', '고가11', '고가12', '고가13', '고가14', '고가15', '고가16', '고가17', '고가18', '고가19', '고가20', '고가21', '고가22', '고가23', '고가24', '고가25', '고가26', '고가27', '고가28', '고가29', '고가30', '고가31', '고가32', '고가33', '고가34', '고가35', '고가36', '고가37', '고가38', '고가39', '고가40', '고가41', '고가42', '고가43', '고가44', '고가45', '고가46', '고가47', '고가48', '고가49', '고가50', 'H25', 'H50']\n",
      "['작성자', '자료제공처', '종목코드', '종목명', '발행일', '발행 전일', '발행 전전일', '리포트 제목', '시가', '종가', '고가', '전일종가', '전전일종가', '투자의견', '고가1', '고가2', '고가3', '고가4', '고가5', '고가6', '고가7', '고가8', '고가9', '고가10', '고가11', '고가12', '고가13', '고가14', '고가15', '고가16', '고가17', '고가18', '고가19', '고가20', '고가21', '고가22', '고가23', '고가24', '고가25', '고가26', '고가27', '고가28', '고가29', '고가30', '고가31', '고가32', '고가33', '고가34', '고가35', '고가36', '고가37', '고가38', '고가39', '고가40', '고가41', '고가42', '고가43', '고가44', '고가45', '고가46', '고가47', '고가48', '고가49', '고가50', 'H25', 'H50']\n"
     ]
    }
   ],
   "source": [
    "for d in data_lists:\n",
    "    print(d.columns.to_list())"
   ]
  },
  {
   "cell_type": "code",
   "execution_count": 7,
   "id": "regulated-motivation",
   "metadata": {},
   "outputs": [
    {
     "name": "stdout",
     "output_type": "stream",
     "text": [
      "0\n",
      "6999\n",
      "1\n",
      "2\n",
      "9684\n",
      "3\n",
      "5115\n",
      "4\n",
      "5893\n",
      "5\n",
      "5201\n"
     ]
    }
   ],
   "source": [
    "truncated_data = []\n",
    "for i, dl in enumerate(data_lists):\n",
    "    print(i)\n",
    "    found = False\n",
    "    for k, d in dl.iterrows():\n",
    "        d.fillna(0, inplace=True)\n",
    "        if d['작성자'] == 0:\n",
    "            print(k)\n",
    "            truncated_data.append(dl.iloc[:k])\n",
    "            found = True\n",
    "            break\n",
    "    if not found:\n",
    "        truncated_data.append(dl)"
   ]
  },
  {
   "cell_type": "code",
   "execution_count": 8,
   "id": "silent-strengthening",
   "metadata": {},
   "outputs": [
    {
     "name": "stdout",
     "output_type": "stream",
     "text": [
      "(6999, 66)\n",
      "(7000, 66)\n",
      "(9684, 66)\n",
      "(5115, 66)\n",
      "(5893, 66)\n",
      "(5201, 66)\n"
     ]
    }
   ],
   "source": [
    "for i, dl in enumerate(truncated_data):\n",
    "    print(dl.shape)"
   ]
  },
  {
   "cell_type": "code",
   "execution_count": 9,
   "id": "negative-delight",
   "metadata": {},
   "outputs": [
    {
     "data": {
      "text/plain": [
       "float"
      ]
     },
     "execution_count": 9,
     "metadata": {},
     "output_type": "execute_result"
    }
   ],
   "source": [
    "type(data_lists[0].iloc[6999]['작성자'])"
   ]
  },
  {
   "cell_type": "code",
   "execution_count": 10,
   "id": "indonesian-nowhere",
   "metadata": {},
   "outputs": [
    {
     "data": {
      "text/plain": [
       "6"
      ]
     },
     "execution_count": 10,
     "metadata": {},
     "output_type": "execute_result"
    }
   ],
   "source": [
    "len(data_lists)"
   ]
  },
  {
   "cell_type": "code",
   "execution_count": 35,
   "id": "instant-importance",
   "metadata": {},
   "outputs": [
    {
     "name": "stdout",
     "output_type": "stream",
     "text": [
      "(39892, 66)\n"
     ]
    },
    {
     "data": {
      "text/html": [
       "<div>\n",
       "<style scoped>\n",
       "    .dataframe tbody tr th:only-of-type {\n",
       "        vertical-align: middle;\n",
       "    }\n",
       "\n",
       "    .dataframe tbody tr th {\n",
       "        vertical-align: top;\n",
       "    }\n",
       "\n",
       "    .dataframe thead th {\n",
       "        text-align: right;\n",
       "    }\n",
       "</style>\n",
       "<table border=\"1\" class=\"dataframe\">\n",
       "  <thead>\n",
       "    <tr style=\"text-align: right;\">\n",
       "      <th></th>\n",
       "      <th>작성자</th>\n",
       "      <th>자료제공처</th>\n",
       "      <th>종목코드</th>\n",
       "      <th>종목명</th>\n",
       "      <th>발행일</th>\n",
       "      <th>발행 전일</th>\n",
       "      <th>발행 전전일</th>\n",
       "      <th>리포트 제목</th>\n",
       "      <th>시가</th>\n",
       "      <th>종가</th>\n",
       "      <th>...</th>\n",
       "      <th>고가43</th>\n",
       "      <th>고가44</th>\n",
       "      <th>고가45</th>\n",
       "      <th>고가46</th>\n",
       "      <th>고가47</th>\n",
       "      <th>고가48</th>\n",
       "      <th>고가49</th>\n",
       "      <th>고가50</th>\n",
       "      <th>H25</th>\n",
       "      <th>H50</th>\n",
       "    </tr>\n",
       "  </thead>\n",
       "  <tbody>\n",
       "    <tr>\n",
       "      <th>0</th>\n",
       "      <td>백영찬</td>\n",
       "      <td>KB</td>\n",
       "      <td>A078930</td>\n",
       "      <td>GS</td>\n",
       "      <td>1/2/20</td>\n",
       "      <td>12/30/19</td>\n",
       "      <td>NaN</td>\n",
       "      <td>4분기실적은기대수준을소폭하회할전망</td>\n",
       "      <td>51,300</td>\n",
       "      <td>50,000</td>\n",
       "      <td>...</td>\n",
       "      <td>41100.0</td>\n",
       "      <td>41300.0</td>\n",
       "      <td>41000.0</td>\n",
       "      <td>39400.0</td>\n",
       "      <td>40450.0</td>\n",
       "      <td>40450.0</td>\n",
       "      <td>40550.0</td>\n",
       "      <td>36400.0</td>\n",
       "      <td>51,400</td>\n",
       "      <td>51,400</td>\n",
       "    </tr>\n",
       "    <tr>\n",
       "      <th>1</th>\n",
       "      <td>백영찬</td>\n",
       "      <td>KB</td>\n",
       "      <td>A010060</td>\n",
       "      <td>OCI</td>\n",
       "      <td>1/2/20</td>\n",
       "      <td>12/30/19</td>\n",
       "      <td>NaN</td>\n",
       "      <td>폴리실리콘원가개선필요한시점</td>\n",
       "      <td>62,700</td>\n",
       "      <td>62,800</td>\n",
       "      <td>...</td>\n",
       "      <td>50800.0</td>\n",
       "      <td>52200.0</td>\n",
       "      <td>52000.0</td>\n",
       "      <td>50100.0</td>\n",
       "      <td>48450.0</td>\n",
       "      <td>48200.0</td>\n",
       "      <td>46300.0</td>\n",
       "      <td>39150.0</td>\n",
       "      <td>65,900</td>\n",
       "      <td>67,300</td>\n",
       "    </tr>\n",
       "    <tr>\n",
       "      <th>2</th>\n",
       "      <td>백영찬</td>\n",
       "      <td>KB</td>\n",
       "      <td>A011780</td>\n",
       "      <td>금호석유</td>\n",
       "      <td>1/2/20</td>\n",
       "      <td>12/30/19</td>\n",
       "      <td>NaN</td>\n",
       "      <td>견조한고무사업,그러나부진한페놀유도체</td>\n",
       "      <td>77,300</td>\n",
       "      <td>76,000</td>\n",
       "      <td>...</td>\n",
       "      <td>62200.0</td>\n",
       "      <td>66100.0</td>\n",
       "      <td>65900.0</td>\n",
       "      <td>64200.0</td>\n",
       "      <td>62800.0</td>\n",
       "      <td>63200.0</td>\n",
       "      <td>63700.0</td>\n",
       "      <td>56300.0</td>\n",
       "      <td>82,100</td>\n",
       "      <td>82,100</td>\n",
       "    </tr>\n",
       "    <tr>\n",
       "      <th>3</th>\n",
       "      <td>장정훈</td>\n",
       "      <td>삼성</td>\n",
       "      <td>A006400</td>\n",
       "      <td>삼성SDI</td>\n",
       "      <td>1/2/20</td>\n",
       "      <td>12/30/19</td>\n",
       "      <td>NaN</td>\n",
       "      <td>20년연초에꾸는꿈</td>\n",
       "      <td>237,000</td>\n",
       "      <td>232,000</td>\n",
       "      <td>...</td>\n",
       "      <td>318000.0</td>\n",
       "      <td>324500.0</td>\n",
       "      <td>323500.0</td>\n",
       "      <td>305500.0</td>\n",
       "      <td>298000.0</td>\n",
       "      <td>301500.0</td>\n",
       "      <td>291500.0</td>\n",
       "      <td>284500.0</td>\n",
       "      <td>322,500</td>\n",
       "      <td>351,000</td>\n",
       "    </tr>\n",
       "    <tr>\n",
       "      <th>4</th>\n",
       "      <td>백영찬</td>\n",
       "      <td>KB</td>\n",
       "      <td>A051910</td>\n",
       "      <td>LG화학</td>\n",
       "      <td>1/2/20</td>\n",
       "      <td>12/30/19</td>\n",
       "      <td>NaN</td>\n",
       "      <td>4분기ESS비용반영을긍정적으로보자</td>\n",
       "      <td>321,000</td>\n",
       "      <td>314,000</td>\n",
       "      <td>...</td>\n",
       "      <td>398500.0</td>\n",
       "      <td>412000.0</td>\n",
       "      <td>404000.0</td>\n",
       "      <td>385500.0</td>\n",
       "      <td>380000.0</td>\n",
       "      <td>377500.0</td>\n",
       "      <td>367000.0</td>\n",
       "      <td>343500.0</td>\n",
       "      <td>391,500</td>\n",
       "      <td>422,500</td>\n",
       "    </tr>\n",
       "    <tr>\n",
       "      <th>...</th>\n",
       "      <td>...</td>\n",
       "      <td>...</td>\n",
       "      <td>...</td>\n",
       "      <td>...</td>\n",
       "      <td>...</td>\n",
       "      <td>...</td>\n",
       "      <td>...</td>\n",
       "      <td>...</td>\n",
       "      <td>...</td>\n",
       "      <td>...</td>\n",
       "      <td>...</td>\n",
       "      <td>...</td>\n",
       "      <td>...</td>\n",
       "      <td>...</td>\n",
       "      <td>...</td>\n",
       "      <td>...</td>\n",
       "      <td>...</td>\n",
       "      <td>...</td>\n",
       "      <td>...</td>\n",
       "      <td>...</td>\n",
       "      <td>...</td>\n",
       "    </tr>\n",
       "    <tr>\n",
       "      <th>5196</th>\n",
       "      <td>김록호</td>\n",
       "      <td>하나금융</td>\n",
       "      <td>A009150</td>\n",
       "      <td>삼성전기</td>\n",
       "      <td>9/10/21</td>\n",
       "      <td>9/9/21</td>\n",
       "      <td>9/8/21</td>\n",
       "      <td>호실적과 편안한 2022년</td>\n",
       "      <td>182,500</td>\n",
       "      <td>188,000</td>\n",
       "      <td>...</td>\n",
       "      <td>0.0</td>\n",
       "      <td>0.0</td>\n",
       "      <td>0.0</td>\n",
       "      <td>0.0</td>\n",
       "      <td>0.0</td>\n",
       "      <td>0.0</td>\n",
       "      <td>0.0</td>\n",
       "      <td>0.0</td>\n",
       "      <td>188,000</td>\n",
       "      <td>188,000</td>\n",
       "    </tr>\n",
       "    <tr>\n",
       "      <th>5197</th>\n",
       "      <td>최정욱</td>\n",
       "      <td>하나금융</td>\n",
       "      <td>A316140</td>\n",
       "      <td>우리금융지주</td>\n",
       "      <td>9/10/21</td>\n",
       "      <td>9/9/21</td>\n",
       "      <td>9/8/21</td>\n",
       "      <td>공자위의 조속한 매각 결단을 환영</td>\n",
       "      <td>10,850</td>\n",
       "      <td>10,950</td>\n",
       "      <td>...</td>\n",
       "      <td>0.0</td>\n",
       "      <td>0.0</td>\n",
       "      <td>0.0</td>\n",
       "      <td>0.0</td>\n",
       "      <td>0.0</td>\n",
       "      <td>0.0</td>\n",
       "      <td>0.0</td>\n",
       "      <td>0.0</td>\n",
       "      <td>10,950</td>\n",
       "      <td>10,950</td>\n",
       "    </tr>\n",
       "    <tr>\n",
       "      <th>5198</th>\n",
       "      <td>심은주</td>\n",
       "      <td>하나금융</td>\n",
       "      <td>A271560</td>\n",
       "      <td>오리온</td>\n",
       "      <td>9/10/21</td>\n",
       "      <td>9/9/21</td>\n",
       "      <td>9/8/21</td>\n",
       "      <td>저가 매수 유효</td>\n",
       "      <td>124,500</td>\n",
       "      <td>123,500</td>\n",
       "      <td>...</td>\n",
       "      <td>0.0</td>\n",
       "      <td>0.0</td>\n",
       "      <td>0.0</td>\n",
       "      <td>0.0</td>\n",
       "      <td>0.0</td>\n",
       "      <td>0.0</td>\n",
       "      <td>0.0</td>\n",
       "      <td>0.0</td>\n",
       "      <td>124,500</td>\n",
       "      <td>124,500</td>\n",
       "    </tr>\n",
       "    <tr>\n",
       "      <th>5199</th>\n",
       "      <td>박강호</td>\n",
       "      <td>대신</td>\n",
       "      <td>A229640</td>\n",
       "      <td>LS전선아시아</td>\n",
       "      <td>9/10/21</td>\n",
       "      <td>9/9/21</td>\n",
       "      <td>9/8/21</td>\n",
       "      <td>숨은 진주, 3Q 호실적 &amp; 신재생에너지</td>\n",
       "      <td>8,840</td>\n",
       "      <td>8,770</td>\n",
       "      <td>...</td>\n",
       "      <td>0.0</td>\n",
       "      <td>0.0</td>\n",
       "      <td>0.0</td>\n",
       "      <td>0.0</td>\n",
       "      <td>0.0</td>\n",
       "      <td>0.0</td>\n",
       "      <td>0.0</td>\n",
       "      <td>0.0</td>\n",
       "      <td>8,880</td>\n",
       "      <td>8,880</td>\n",
       "    </tr>\n",
       "    <tr>\n",
       "      <th>5200</th>\n",
       "      <td>김경민</td>\n",
       "      <td>하나금융</td>\n",
       "      <td>A322310</td>\n",
       "      <td>오로스테크놀로지</td>\n",
       "      <td>9/10/21</td>\n",
       "      <td>9/9/21</td>\n",
       "      <td>9/8/21</td>\n",
       "      <td>올바른 방향으로 순항 중</td>\n",
       "      <td>30,700</td>\n",
       "      <td>31,500</td>\n",
       "      <td>...</td>\n",
       "      <td>0.0</td>\n",
       "      <td>0.0</td>\n",
       "      <td>0.0</td>\n",
       "      <td>0.0</td>\n",
       "      <td>0.0</td>\n",
       "      <td>0.0</td>\n",
       "      <td>0.0</td>\n",
       "      <td>0.0</td>\n",
       "      <td>32,500</td>\n",
       "      <td>32,500</td>\n",
       "    </tr>\n",
       "  </tbody>\n",
       "</table>\n",
       "<p>39892 rows × 66 columns</p>\n",
       "</div>"
      ],
      "text/plain": [
       "         작성자 자료제공처     종목코드       종목명      발행일     발행 전일  발행 전전일  \\\n",
       "0        백영찬    KB  A078930        GS   1/2/20  12/30/19     NaN   \n",
       "1        백영찬    KB  A010060       OCI   1/2/20  12/30/19     NaN   \n",
       "2        백영찬    KB  A011780      금호석유   1/2/20  12/30/19     NaN   \n",
       "3        장정훈    삼성  A006400     삼성SDI   1/2/20  12/30/19     NaN   \n",
       "4        백영찬    KB  A051910      LG화학   1/2/20  12/30/19     NaN   \n",
       "...      ...   ...      ...       ...      ...       ...     ...   \n",
       "5196     김록호  하나금융  A009150      삼성전기  9/10/21    9/9/21  9/8/21   \n",
       "5197     최정욱  하나금융  A316140    우리금융지주  9/10/21    9/9/21  9/8/21   \n",
       "5198     심은주  하나금융  A271560       오리온  9/10/21    9/9/21  9/8/21   \n",
       "5199     박강호    대신  A229640   LS전선아시아  9/10/21    9/9/21  9/8/21   \n",
       "5200     김경민  하나금융  A322310  오로스테크놀로지  9/10/21    9/9/21  9/8/21   \n",
       "\n",
       "                      리포트 제목         시가         종가  ...      고가43      고가44  \\\n",
       "0         4분기실적은기대수준을소폭하회할전망    51,300     50,000   ...   41100.0   41300.0   \n",
       "1             폴리실리콘원가개선필요한시점    62,700     62,800   ...   50800.0   52200.0   \n",
       "2        견조한고무사업,그러나부진한페놀유도체    77,300     76,000   ...   62200.0   66100.0   \n",
       "3                  20년연초에꾸는꿈   237,000    232,000   ...  318000.0  324500.0   \n",
       "4         4분기ESS비용반영을긍정적으로보자   321,000    314,000   ...  398500.0  412000.0   \n",
       "...                      ...        ...        ...  ...       ...       ...   \n",
       "5196          호실적과 편안한 2022년   182,500    188,000   ...       0.0       0.0   \n",
       "5197      공자위의 조속한 매각 결단을 환영    10,850     10,950   ...       0.0       0.0   \n",
       "5198                저가 매수 유효   124,500    123,500   ...       0.0       0.0   \n",
       "5199  숨은 진주, 3Q 호실적 & 신재생에너지     8,840      8,770   ...       0.0       0.0   \n",
       "5200           올바른 방향으로 순항 중    30,700     31,500   ...       0.0       0.0   \n",
       "\n",
       "          고가45      고가46      고가47      고가48      고가49      고가50        H25  \\\n",
       "0      41000.0   39400.0   40450.0   40450.0   40550.0   36400.0    51,400    \n",
       "1      52000.0   50100.0   48450.0   48200.0   46300.0   39150.0    65,900    \n",
       "2      65900.0   64200.0   62800.0   63200.0   63700.0   56300.0    82,100    \n",
       "3     323500.0  305500.0  298000.0  301500.0  291500.0  284500.0   322,500    \n",
       "4     404000.0  385500.0  380000.0  377500.0  367000.0  343500.0   391,500    \n",
       "...        ...       ...       ...       ...       ...       ...        ...   \n",
       "5196       0.0       0.0       0.0       0.0       0.0       0.0   188,000    \n",
       "5197       0.0       0.0       0.0       0.0       0.0       0.0    10,950    \n",
       "5198       0.0       0.0       0.0       0.0       0.0       0.0   124,500    \n",
       "5199       0.0       0.0       0.0       0.0       0.0       0.0     8,880    \n",
       "5200       0.0       0.0       0.0       0.0       0.0       0.0    32,500    \n",
       "\n",
       "            H50  \n",
       "0       51,400   \n",
       "1       67,300   \n",
       "2       82,100   \n",
       "3      351,000   \n",
       "4      422,500   \n",
       "...         ...  \n",
       "5196   188,000   \n",
       "5197    10,950   \n",
       "5198   124,500   \n",
       "5199     8,880   \n",
       "5200    32,500   \n",
       "\n",
       "[39892 rows x 66 columns]"
      ]
     },
     "execution_count": 35,
     "metadata": {},
     "output_type": "execute_result"
    }
   ],
   "source": [
    "merged_df = pd.concat(truncated_data, axis=0)\n",
    "print(merged_df.shape)\n",
    "merged_df"
   ]
  },
  {
   "cell_type": "code",
   "execution_count": 36,
   "id": "essential-humidity",
   "metadata": {},
   "outputs": [],
   "source": [
    "merged_df.rename(columns={'작성자':'author', '자료제공처': 'source', '종목코드': 'ticker_symbol', '종목명': 'company', '발행일': 'report_date', '리포트 제목': 'report_title', '시가': 'opening', '종가': 'closing', '투자의견': 'recommendation'}, inplace=True)"
   ]
  },
  {
   "cell_type": "code",
   "execution_count": 37,
   "id": "fluid-familiar",
   "metadata": {},
   "outputs": [
    {
     "data": {
      "text/plain": [
       "김경민       272\n",
       "김현용       255\n",
       "   박종선    230\n",
       "백영찬       210\n",
       "   이동헌    204\n",
       "         ... \n",
       "임규미         1\n",
       "   김규상      1\n",
       "최길환         1\n",
       "안도영         1\n",
       "   송용주      1\n",
       "Name: author, Length: 865, dtype: int64"
      ]
     },
     "execution_count": 37,
     "metadata": {},
     "output_type": "execute_result"
    }
   ],
   "source": [
    "merged_df['author'].value_counts()"
   ]
  },
  {
   "cell_type": "code",
   "execution_count": 33,
   "id": "clinical-train",
   "metadata": {},
   "outputs": [],
   "source": [
    "col_kor_names = merged_df.columns.to_list()"
   ]
  },
  {
   "cell_type": "code",
   "execution_count": 34,
   "id": "exterior-stylus",
   "metadata": {},
   "outputs": [],
   "source": [
    "col_name_map = col_kor_names"
   ]
  },
  {
   "cell_type": "code",
   "execution_count": 38,
   "id": "several-bicycle",
   "metadata": {},
   "outputs": [
    {
     "data": {
      "text/plain": [
       "없음               14870\n",
       "BUY              13079\n",
       "NR                6582\n",
       "매수                4113\n",
       "HOLD               700\n",
       "중립                 189\n",
       "MarketPerform      126\n",
       "Trading Buy         63\n",
       "Neutral             51\n",
       "Outperform          45\n",
       "STRONG BUY          38\n",
       "보유                  22\n",
       "비중축소                 4\n",
       "Underperform         4\n",
       "Sell                 3\n",
       "REDUCE               3\n",
       "Name: recommendation, dtype: int64"
      ]
     },
     "execution_count": 38,
     "metadata": {},
     "output_type": "execute_result"
    }
   ],
   "source": [
    "merged_df['recommendation'].value_counts()"
   ]
  },
  {
   "cell_type": "code",
   "execution_count": 19,
   "id": "comparative-western",
   "metadata": {},
   "outputs": [],
   "source": [
    "import spacy"
   ]
  },
  {
   "cell_type": "code",
   "execution_count": 20,
   "id": "powered-switch",
   "metadata": {},
   "outputs": [],
   "source": [
    "nlp = spacy.load(\"en_core_web_lg\")"
   ]
  },
  {
   "cell_type": "code",
   "execution_count": 17,
   "id": "established-church",
   "metadata": {},
   "outputs": [],
   "source": [
    "from googletrans import Translator"
   ]
  },
  {
   "cell_type": "code",
   "execution_count": 18,
   "id": "crucial-elder",
   "metadata": {},
   "outputs": [],
   "source": [
    "translator = Translator(service_urls=[\n",
    "      'translate.google.com',\n",
    "      'translate.google.co.kr',\n",
    "    ])"
   ]
  },
  {
   "cell_type": "code",
   "execution_count": 22,
   "id": "sustainable-directive",
   "metadata": {},
   "outputs": [],
   "source": [
    "ex1 = translator.translate('안녕하세요.', src=\"ko\", dest=\"en\")"
   ]
  },
  {
   "cell_type": "code",
   "execution_count": 27,
   "id": "representative-shooting",
   "metadata": {},
   "outputs": [
    {
     "name": "stdout",
     "output_type": "stream",
     "text": [
      "Translated(src=ko, dest=en, text=Hello., pronunciation=None, extra_data=\"{'confiden...\")\n"
     ]
    }
   ],
   "source": [
    "print(ex1)"
   ]
  },
  {
   "cell_type": "code",
   "execution_count": 28,
   "id": "cooked-casting",
   "metadata": {},
   "outputs": [
    {
     "data": {
      "text/plain": [
       "'Hello.'"
      ]
     },
     "execution_count": 28,
     "metadata": {},
     "output_type": "execute_result"
    }
   ],
   "source": [
    "ex1.text"
   ]
  },
  {
   "cell_type": "code",
   "execution_count": 30,
   "id": "falling-upgrade",
   "metadata": {},
   "outputs": [
    {
     "data": {
      "text/plain": [
       "{'confidence': None,\n",
       " 'parts': [<googletrans.models.TranslatedPart at 0x7fde8d360ad0>],\n",
       " 'origin_pronunciation': 'annyeonghaseyo.',\n",
       " 'parsed': [['annyeonghaseyo.', None, None, [[[0, [[[None, 6]], [True]]]], 6]],\n",
       "  [[[None,\n",
       "     None,\n",
       "     None,\n",
       "     None,\n",
       "     None,\n",
       "     [['Hello.',\n",
       "       None,\n",
       "       None,\n",
       "       None,\n",
       "       [['Hello.', [4, 5]], ['Good morning.', [2, 1]], ['Hi.', [2]]]]]]],\n",
       "   'en',\n",
       "   1,\n",
       "   'ko',\n",
       "   ['안녕하세요.', 'ko', 'en', True]],\n",
       "  'ko',\n",
       "  ['안녕하세요!',\n",
       "   None,\n",
       "   None,\n",
       "   None,\n",
       "   None,\n",
       "   [[['interjection',\n",
       "      [['Hello!',\n",
       "        None,\n",
       "        ['안녕하세요!', '여보!', '어이!', '여보, 이 봐!', '여보세요!'],\n",
       "        1,\n",
       "        True],\n",
       "       ['Good morning!', None, ['안녕하세요!', '안녕하십니까!', '안녕히 주무셨어요!'], 2, True],\n",
       "       ['Good afternoon!', None, ['안녕하세요!'], 3, True],\n",
       "       ['Good day!', None, ['안녕하세요!'], 3, True],\n",
       "       ['Good evening!', None, ['안녕하세요!'], 3, True]],\n",
       "      'en',\n",
       "      'ko']],\n",
       "    5],\n",
       "   None,\n",
       "   None,\n",
       "   'ko',\n",
       "   1]]}"
      ]
     },
     "execution_count": 30,
     "metadata": {},
     "output_type": "execute_result"
    }
   ],
   "source": [
    "ex1.extra_data"
   ]
  },
  {
   "cell_type": "code",
   "execution_count": 48,
   "id": "disturbed-nigeria",
   "metadata": {},
   "outputs": [],
   "source": [
    "merged_df.to_pickle(PROJ_HOME+'/data/merged.pkl')"
   ]
  },
  {
   "cell_type": "code",
   "execution_count": null,
   "id": "vocational-trouble",
   "metadata": {},
   "outputs": [],
   "source": [
    "eng_title = []\n",
    "for k, r in tqdm(merged_df.iterrows(), total=39892):\n",
    "    ex1 = translator.translate(r['report_title'] , src=\"ko\", dest=\"en\")\n",
    "    eng_title.append(ex1.text)"
   ]
  },
  {
   "cell_type": "code",
   "execution_count": null,
   "id": "controversial-prompt",
   "metadata": {},
   "outputs": [],
   "source": [
    "merged_df['en_report_title'] = eng_title"
   ]
  },
  {
   "cell_type": "code",
   "execution_count": null,
   "id": "dominant-cisco",
   "metadata": {},
   "outputs": [],
   "source": [
    "merged_df"
   ]
  },
  {
   "cell_type": "code",
   "execution_count": null,
   "id": "brazilian-differential",
   "metadata": {},
   "outputs": [],
   "source": [
    "merged_df.to_pickle(PROJ_HOME+'/data/merged.pkl')"
   ]
  }
 ],
 "metadata": {
  "kernelspec": {
   "display_name": "nlp_env",
   "language": "python",
   "name": "nlp_env"
  },
  "language_info": {
   "codemirror_mode": {
    "name": "ipython",
    "version": 3
   },
   "file_extension": ".py",
   "mimetype": "text/x-python",
   "name": "python",
   "nbconvert_exporter": "python",
   "pygments_lexer": "ipython3",
   "version": "3.7.9"
  }
 },
 "nbformat": 4,
 "nbformat_minor": 5
}
